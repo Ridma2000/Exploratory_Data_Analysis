{
 "cells": [
  {
   "cell_type": "code",
   "execution_count": 5,
   "id": "b284d519",
   "metadata": {},
   "outputs": [
    {
     "name": "stdout",
     "output_type": "stream",
     "text": [
      "            Mean    Median      Mode      Variance  Standard Deviation  \\\n",
      "0       0.823529      1.00      0.00  1.535207e+00            1.239035   \n",
      "1     122.000000    122.00    122.00  1.008631e+03           31.758944   \n",
      "9      98.806373     97.00     94.50  3.592976e+01            5.994144   \n",
      "10    174.075000    173.20    157.30  1.528221e+02           12.362123   \n",
      "11     65.916667     65.50     63.80  4.608391e+00            2.146716   \n",
      "12     53.749020     54.10     50.80  5.880147e+00            2.424901   \n",
      "13   2555.602941   2414.00   2385.00  2.724431e+05          521.960820   \n",
      "16    126.892157    119.50     92.00  1.742609e+03           41.744569   \n",
      "18      3.329050      3.31      3.62  7.362029e-02            0.271331   \n",
      "19      3.258300      3.29      3.40  9.718829e-02            0.311750   \n",
      "20     10.148137      9.00      9.00  1.584836e+01            3.981000   \n",
      "21    104.222772     95.00     68.00  1.569236e+03           39.613588   \n",
      "22   5125.990099   5200.00   5500.00  2.285520e+05          478.071104   \n",
      "23     25.240196     24.00     31.00  4.292232e+01            6.551513   \n",
      "24     30.769608     30.00     25.00  4.758705e+01            6.898337   \n",
      "25  13205.690000  10470.00  13205.69  6.222212e+07         7888.099600   \n",
      "\n",
      "    Minimum   Maximum  \n",
      "0     -2.00      3.00  \n",
      "1     65.00    256.00  \n",
      "9     86.60    120.90  \n",
      "10   141.10    208.10  \n",
      "11    60.30     72.30  \n",
      "12    47.80     59.80  \n",
      "13  1488.00   4066.00  \n",
      "16    61.00    326.00  \n",
      "18     2.54      3.94  \n",
      "19     2.07      4.17  \n",
      "20     7.00     23.00  \n",
      "21    48.00    288.00  \n",
      "22  4150.00   6600.00  \n",
      "23    13.00     49.00  \n",
      "24    16.00     54.00  \n",
      "25  5118.00  45400.00  \n",
      "\n",
      "The statistical parameters have been saved to 'Q2.csv'.\n"
     ]
    }
   ],
   "source": [
    "import pandas as pd\n",
    "\n",
    "# Load the Automobile dataset from the provided CSV file\n",
    "file_path = 'C:\\\\Users\\\\Dell\\\\Desktop\\\\Machine learnng\\\\week 3\\\\(h) i.) filled_dataset.csv'\n",
    "automobile_df = pd.read_csv(file_path)\n",
    "\n",
    "# Calculate the required statistical parameters for each numerical column\n",
    "statistics = {}\n",
    "numerical_columns = automobile_df.select_dtypes(include=['number']).columns\n",
    "\n",
    "for column in numerical_columns:\n",
    "    statistics[column] = {\n",
    "        'Mean': automobile_df[column].mean(),\n",
    "        'Median': automobile_df[column].median(),\n",
    "        'Mode': automobile_df[column].mode()[0],\n",
    "        'Variance': automobile_df[column].var(),\n",
    "        'Standard Deviation': automobile_df[column].std(),\n",
    "        'Minimum': automobile_df[column].min(),\n",
    "        'Maximum': automobile_df[column].max()\n",
    "    }\n",
    "\n",
    "# Convert the statistics dictionary to a DataFrame for better visualization\n",
    "statistics_df = pd.DataFrame(statistics).transpose()\n",
    "\n",
    "print(statistics_df)\n",
    "statistics_df.to_csv(\"Q2.csv\", index=True)\n",
    "print()\n",
    "print(\"The statistical parameters have been saved to 'Q2.csv'.\")\n"
   ]
  },
  {
   "cell_type": "code",
   "execution_count": null,
   "id": "98aa7389",
   "metadata": {},
   "outputs": [],
   "source": []
  }
 ],
 "metadata": {
  "kernelspec": {
   "display_name": "Python 3 (ipykernel)",
   "language": "python",
   "name": "python3"
  },
  "language_info": {
   "codemirror_mode": {
    "name": "ipython",
    "version": 3
   },
   "file_extension": ".py",
   "mimetype": "text/x-python",
   "name": "python",
   "nbconvert_exporter": "python",
   "pygments_lexer": "ipython3",
   "version": "3.11.7"
  }
 },
 "nbformat": 4,
 "nbformat_minor": 5
}
